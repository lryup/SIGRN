{
 "cells": [
  {
   "cell_type": "markdown",
   "id": "1084c0d1",
   "metadata": {},
   "source": [
    "# Getting Started with IntroGRN\n",
    " "
   ]
  },
  {
   "cell_type": "code",
   "execution_count": 1,
   "id": "3b06ce68",
   "metadata": {},
   "outputs": [],
   "source": [
    "import numpy as np\n",
    "from data import load_beeline\n",
    "from logger import LightLogger\n",
    "from SIGRN import runSIGRN\n",
    "from evaluate import extract_edges, get_metrics_auc"
   ]
  },
  {
   "cell_type": "markdown",
   "id": "717c17fa",
   "metadata": {},
   "source": [
    "## Model Configurations\n",
    "\n",
    "The parameter design is referred to GRN-VAE paper.\n",
    "\n",
    "\n",
    "The three key concepts proposed in the IntroGRN paper are controlled by the following parameters. \n",
    "\n",
    "- `delayed_steps_on_sparse`: Number of delayed steps on introducing the sparse loss. \n",
    "- `dropout_augmentation_p`: The proportion of data that will be randomly masked as dropout in each traing step.\n",
    "- `train_on_non_zero`: Whether to train the model on non-zero expression data\n",
    "\n",
    "The exact parameters are listed as below for referencing purpose."
   ]
  },
  {
   "cell_type": "code",
   "execution_count": 2,
   "id": "ed112b03",
   "metadata": {},
   "outputs": [],
   "source": [
    "DEFAULT_GRNVAE_CONFIGS = {\n",
    "    # Train/Test split\n",
    "    'train_split': 1.0,# Use all data for training\n",
    "    'train_split_seed': None, # Seed for random splitting\n",
    "\n",
    "    # Neural Net Definition\n",
    "    'hidden_dim': 128,#  Size of dimension in the MLP layers\n",
    "    'z_dim': 1,# Size of dimension of Z\n",
    "    'A_dim': 1,#Number of Adjacency matrix to be modeled at the same time\n",
    "    'train_on_non_zero': True,# Whether to train on non-zero data only\n",
    "    'dropout_augmentation_p': 0.1,#Probability of augmented dropout. For example, 0.1 means that 10% of data will be temporarily assign to zero in each forward  pass\n",
    "    'dropout_augmentation_type': 'all',#Choose among 'all' (default), 'belowmean', 'belowhalfmean'. This option specifies where dropout augmentation would happen. If 'belowmean' is selected, the augmentation would only happen on values below global mean.\n",
    "    'cuda': True,\n",
    "\n",
    "    # Loss term, hyperparameters\n",
    "    'alpha': 100,\n",
    "    # 'beta': 1,\n",
    "    'chi': 0.5,\n",
    "    'h_scale': 0,\n",
    "    'delayed_steps_on_sparse': 30,\n",
    "\n",
    "    # Neural Net Training\n",
    "    'number_of_opt': 2,# Number of optimizations\n",
    "    'batch_size': 64, # Size of training batches\n",
    "    'n_epochs': 120, # Number of training epochs\n",
    "    # 'schedule': [120, 240],\n",
    "    'eval_on_n_steps': 10,# Evaluation frequency\n",
    "    'early_stopping': 0,# Early stopping criteria\n",
    "    'lr_nn': 1e-4, # Learning rate for neural network\n",
    "    'lr_adj': 2e-5, # Learning rate for adjacency matrix\n",
    "    'K1': 1,\n",
    "    'K2': 1\n",
    "}"
   ]
  },
  {
   "cell_type": "markdown",
   "id": "23ed0d98",
   "metadata": {},
   "source": [
    "## Data loading\n",
    "BEELINE benchmarks could be loaded by the load_beeline function, where you specify where to look for data and which benchmark to load. If it's the first time, this function will download the files automatically.\n"
   ]
  },
  {
   "cell_type": "code",
   "execution_count": 3,
   "id": "1fe558db",
   "metadata": {},
   "outputs": [],
   "source": [
    "# Load data from a BEELINE benchmark\n",
    "data, ground_truth = load_beeline(\n",
    "    data_dir='data', \n",
    "    benchmark_data='hESC', \n",
    "    benchmark_setting='500_STRING'\n",
    ")"
   ]
  },
  {
   "cell_type": "code",
   "execution_count": 4,
   "id": "0f5e1ee4",
   "metadata": {},
   "outputs": [
    {
     "data": {
      "text/plain": [
       "AnnData object with n_obs × n_vars = 758 × 910"
      ]
     },
     "execution_count": 4,
     "metadata": {},
     "output_type": "execute_result"
    }
   ],
   "source": [
    "data"
   ]
  },
  {
   "cell_type": "markdown",
   "id": "aaf0c7b9",
   "metadata": {},
   "source": [
    "## Model Training\n"
   ]
  },
  {
   "cell_type": "code",
   "execution_count": 6,
   "id": "f733970f",
   "metadata": {},
   "outputs": [
    {
     "name": "stdout",
     "output_type": "stream",
     "text": [
      "{'epoch': 0.0, 'loss_rec': 1.63507, 'loss_kl': 0.0286, 'loss_sparse': 0.00124, 'loss': 2.66111, 'loss_ma': 1.02604, 'lossG': 1.638, 'negative_adj': 0, 'AUPR': 0.024300847101724185, 'AUROC': 0.5008846082740657, 'AUPRR': 1.0103261279868359, 'EP': 106, 'EPR': 1.0352432001480627, 'true_edge': 4257}\n",
      "{'epoch': 10.0, 'loss_rec': 0.71228, 'loss_kl': 0.52192, 'loss_sparse': 0.00174, 'loss': 1.98317, 'loss_ma': 1.27088, 'lossG': 1.11949, 'negative_adj': 15402, 'AUPR': 0.04113493422707818, 'AUROC': 0.6250494421875435, 'AUPRR': 1.7102160533197353, 'EP': 288, 'EPR': 2.8127362419117174, 'true_edge': 4257}\n",
      "{'epoch': 20.0, 'loss_rec': 0.49394, 'loss_kl': 0.51414, 'loss_sparse': 0.00175, 'loss': 1.73117, 'loss_ma': 1.23723, 'lossG': 0.94298, 'negative_adj': 68271, 'AUPR': 0.05300461080571384, 'AUROC': 0.6546410550936744, 'AUPRR': 2.203706849255739, 'EP': 392, 'EPR': 3.828446551490949, 'true_edge': 4257}\n",
      "{'epoch': 30.0, 'loss_rec': 0.49875, 'loss_kl': 0.4794, 'loss_sparse': 0.00157, 'loss': 1.88401, 'loss_ma': 1.2284, 'lossG': 0.91571, 'negative_adj': 123491, 'AUPR': 0.05399048007525515, 'AUROC': 0.6540068868118142, 'AUPRR': 2.244695111007578, 'EP': 441, 'EPR': 4.307002370427318, 'true_edge': 4257}\n",
      "{'epoch': 40.0, 'loss_rec': 0.4876, 'loss_kl': 0.48178, 'loss_sparse': 0.00136, 'loss': 1.8558, 'loss_ma': 1.23181, 'lossG': 0.90323, 'negative_adj': 77092, 'AUPR': 0.05715702041799965, 'AUROC': 0.655490423410107, 'AUPRR': 2.3763464246513792, 'EP': 495, 'EPR': 4.834390415785765, 'true_edge': 4257}\n",
      "{'epoch': 50.0, 'loss_rec': 0.46638, 'loss_kl': 0.49681, 'loss_sparse': 0.00129, 'loss': 1.83512, 'loss_ma': 1.23973, 'lossG': 0.88778, 'negative_adj': 67853, 'AUPR': 0.05889250106109248, 'AUROC': 0.6565510138787742, 'AUPRR': 2.4485003471460267, 'EP': 515, 'EPR': 5.0297193214740785, 'true_edge': 4257}\n",
      "{'epoch': 60.0, 'loss_rec': 0.44849, 'loss_kl': 0.51197, 'loss_sparse': 0.00125, 'loss': 1.82184, 'loss_ma': 1.24806, 'lossG': 0.87459, 'negative_adj': 64596, 'AUPR': 0.06038409186641259, 'AUROC': 0.657444494530403, 'AUPRR': 2.5105143648702444, 'EP': 518, 'EPR': 5.059018657327325, 'true_edge': 4257}\n",
      "{'epoch': 70.0, 'loss_rec': 0.43581, 'loss_kl': 0.52512, 'loss_sparse': 0.00123, 'loss': 1.80841, 'loss_ma': 1.24941, 'lossG': 0.87479, 'negative_adj': 72153, 'AUPR': 0.06104420749720244, 'AUROC': 0.656284692276333, 'AUPRR': 2.5379591723079318, 'EP': 517, 'EPR': 5.0492522120429095, 'true_edge': 4257}\n",
      "{'epoch': 80.0, 'loss_rec': 0.4379, 'loss_kl': 0.5341, 'loss_sparse': 0.00122, 'loss': 1.81198, 'loss_ma': 1.25239, 'lossG': 0.88201, 'negative_adj': 69885, 'AUPR': 0.061539051978598824, 'AUROC': 0.6571784639593532, 'AUPRR': 2.5585327065041694, 'EP': 523, 'EPR': 5.107850883749403, 'true_edge': 4257}\n",
      "{'epoch': 90.0, 'loss_rec': 0.42025, 'loss_kl': 0.55034, 'loss_sparse': 0.00121, 'loss': 1.79838, 'loss_ma': 1.25738, 'lossG': 0.87643, 'negative_adj': 77873, 'AUPR': 0.06179447378787889, 'AUROC': 0.6576409699588326, 'AUPRR': 2.5691520617263586, 'EP': 519, 'EPR': 5.068785102611741, 'true_edge': 4257}\n",
      "{'epoch': 100.0, 'loss_rec': 0.42712, 'loss_kl': 0.55415, 'loss_sparse': 0.0012, 'loss': 1.80096, 'loss_ma': 1.25389, 'lossG': 0.89177, 'negative_adj': 82316, 'AUPR': 0.062093631882124065, 'AUROC': 0.6580024839855659, 'AUPRR': 2.5815897861295216, 'EP': 524, 'EPR': 5.11761732903382, 'true_edge': 4257}\n",
      "{'epoch': 110.0, 'loss_rec': 0.41091, 'loss_kl': 0.58458, 'loss_sparse': 0.0012, 'loss': 1.79776, 'loss_ma': 1.26725, 'lossG': 0.90038, 'negative_adj': 73333, 'AUPR': 0.062159906306841775, 'AUROC': 0.6578235051196033, 'AUPRR': 2.5843451955450583, 'EP': 522, 'EPR': 5.098084438464988, 'true_edge': 4257}\n"
     ]
    }
   ],
   "source": [
    "logger = LightLogger()\n",
    "vae, adjs, result_rec = runSIGRN(\n",
    "        data.X, DEFAULT_GRNVAE_CONFIGS, ground_truth=ground_truth, logger=logger)"
   ]
  },
  {
   "cell_type": "markdown",
   "id": "fedbc190",
   "metadata": {},
   "source": [
    "The learned adjacency matrix could be obtained by the `get_adj()` method. For BEELINE benchmarks, you can get the performance metrics of this run using the `get_metrics` function. "
   ]
  },
  {
   "cell_type": "code",
   "execution_count": 8,
   "id": "f9d666bf",
   "metadata": {},
   "outputs": [
    {
     "data": {
      "text/plain": [
       "{'AUPR': 0.0622859198764375,\n",
       " 'AUROC': 0.6584840362216745,\n",
       " 'AUPRR': 2.589584305165826,\n",
       " 'EP': 519,\n",
       " 'EPR': 5.068785102611741,\n",
       " 'true_edge': 4257}"
      ]
     },
     "execution_count": 8,
     "metadata": {},
     "output_type": "execute_result"
    }
   ],
   "source": [
    "A = vae.get_adj()\n",
    "get_metrics_auc(A, ground_truth)"
   ]
  },
  {
   "cell_type": "code",
   "execution_count": null,
   "id": "0fd414ab",
   "metadata": {},
   "outputs": [],
   "source": []
  }
 ],
 "metadata": {
  "kernelspec": {
   "display_name": "Python 3 (ipykernel)",
   "language": "python",
   "name": "python3"
  },
  "language_info": {
   "codemirror_mode": {
    "name": "ipython",
    "version": 3
   },
   "file_extension": ".py",
   "mimetype": "text/x-python",
   "name": "python",
   "nbconvert_exporter": "python",
   "pygments_lexer": "ipython3",
   "version": "3.8.0"
  }
 },
 "nbformat": 4,
 "nbformat_minor": 5
}
