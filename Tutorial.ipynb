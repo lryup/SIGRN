{
 "cells": [
  {
   "cell_type": "markdown",
   "id": "245f02f2-7c5e-4f76-8058-3405c54ab56d",
   "metadata": {},
   "source": [
    "# Getting Started with IntroGRN\n",
    " "
   ]
  },
  {
   "cell_type": "code",
   "execution_count": 1,
   "id": "757501ef-6bf7-466b-8d47-7b2ebc98e8b5",
   "metadata": {},
   "outputs": [],
   "source": [
    "import numpy as np\n",
    "from data import load_beeline\n",
    "from logger import LightLogger\n",
    "from IntroGRN import runIntroGRN\n",
    "from evaluate import extract_edges, get_metrics"
   ]
  },
  {
   "cell_type": "markdown",
   "id": "b1a973fc-0f5c-43aa-aaf6-f230ebfdd4fe",
   "metadata": {},
   "source": [
    "## Model Configurations\n",
    "\n",
    "The parameter design is referred to GRN-VAE paper.\n",
    "\n",
    "\n",
    "The three key concepts proposed in the IntroGRN paper are controlled by the following parameters. \n",
    "\n",
    "- `delayed_steps_on_sparse`: Number of delayed steps on introducing the sparse loss. \n",
    "- `dropout_augmentation_p`: The proportion of data that will be randomly masked as dropout in each traing step.\n",
    "- `train_on_non_zero`: Whether to train the model on non-zero expression data\n",
    "\n",
    "The exact parameters are listed as below for referencing purpose."
   ]
  },
  {
   "cell_type": "code",
   "execution_count": 2,
   "id": "d4c15b3d-9218-4586-acc8-091bf515111c",
   "metadata": {},
   "outputs": [],
   "source": [
    "# For referencing purpose. \n",
    "DEFAULT_GRNVAE_CONFIGS = {\n",
    "    # Train/Test split\n",
    "    'train_split': 1.0,\n",
    "    'train_split_seed': None, \n",
    "    \n",
    "    # Neural Net Definition\n",
    "    'hidden_dim': 128,\n",
    "    'z_dim': 1,\n",
    "    'A_dim': 1,\n",
    "    'train_on_non_zero': True,\n",
    "    'dropout_augmentation_p':0.1,\n",
    "    'dropout_augmentation_type': 'all',\n",
    "    'cuda': True,\n",
    "    \n",
    "    # Loss\n",
    "    'alpha': 100,\n",
    "    'beta': 1,\n",
    "    'chi':0.5,\n",
    "    'h_scale': 0,\n",
    "    'delayed_steps_on_sparse': 30,\n",
    "    \n",
    "    # Neural Net Training\n",
    "    'number_of_opt': 2,\n",
    "    'batch_size': 64,\n",
    "    'n_epochs': 120,\n",
    "    'marginal':10,\n",
    "    #'schedule': [120, 240],\n",
    "    'eval_on_n_steps': 10,\n",
    "    'early_stopping': 0,\n",
    "    'lr_nn': 1e-4,\n",
    "    'lr_adj': 2e-5,\n",
    "    'K1': 1,\n",
    "    'K2': 1\n",
    "}"
   ]
  },
  {
   "cell_type": "markdown",
   "id": "3cdda832-f4b7-4758-b1f9-8f7403ba275d",
   "metadata": {},
   "source": [
    "## Data loading\n"
   ]
  },
  {
   "cell_type": "code",
   "execution_count": 3,
   "id": "00b34db8-7a88-4e39-8900-f30261dd203c",
   "metadata": {},
   "outputs": [],
   "source": [
    "# Load data from a BEELINE benchmark\n",
    "data, ground_truth = load_beeline(\n",
    "    data_dir='data', \n",
    "    benchmark_data='hESC', \n",
    "    benchmark_setting='500_STRING'\n",
    ")"
   ]
  },
  {
   "cell_type": "markdown",
   "id": "c4a2fb83-ddad-47ad-b50d-95ab1b8f7ddf",
   "metadata": {},
   "source": [
    "## Model Training\n"
   ]
  },
  {
   "cell_type": "code",
   "execution_count": 4,
   "id": "1d0eac9f",
   "metadata": {},
   "outputs": [
    {
     "name": "stdout",
     "output_type": "stream",
     "text": [
      "{'epoch': 0.0, 'loss_rec': 1.69468, 'loss_kl': 0.02026, 'loss_sparse': 0.00127, 'loss': 4.21488, 'loss_ma': 2.5202, 'lossG': 1.69494, 'negative_adj': 0, 'AUPR': 0.02442962598409241, 'AUPRR': 1.0156802075810543, 'EP': 117, 'EPR': 1.1426740982766352}\n",
      "{'epoch': 10.0, 'loss_rec': 0.88669, 'loss_kl': 0.41838, 'loss_sparse': 0.00182, 'loss': 3.72553, 'loss_ma': 2.83884, 'lossG': 1.20509, 'negative_adj': 30549, 'AUPR': 0.04877106176426185, 'AUPRR': 2.0276938406232503, 'EP': 359, 'EPR': 3.506153857105231}\n",
      "{'epoch': 20.0, 'loss_rec': 0.68735, 'loss_kl': 0.47527, 'loss_sparse': 0.00175, 'loss': 3.55991, 'loss_ma': 2.87256, 'lossG': 1.09882, 'negative_adj': 84516, 'AUPR': 0.05632915369707471, 'AUPRR': 2.3419272385571666, 'EP': 455, 'EPR': 4.443732604409137}\n",
      "{'epoch': 30.0, 'loss_rec': 0.61943, 'loss_kl': 0.47549, 'loss_sparse': 0.00161, 'loss': 3.65947, 'loss_ma': 2.87876, 'lossG': 1.00676, 'negative_adj': 132411, 'AUPR': 0.05577217853359097, 'AUPRR': 2.3187705741844487, 'EP': 477, 'EPR': 4.658594400666282}\n",
      "{'epoch': 40.0, 'loss_rec': 0.58391, 'loss_kl': 0.45848, 'loss_sparse': 0.0014, 'loss': 3.59471, 'loss_ma': 2.87079, 'lossG': 0.93462, 'negative_adj': 87876, 'AUPR': 0.057540427229820154, 'AUPRR': 2.3922868533125228, 'EP': 495, 'EPR': 4.834390415785765}\n",
      "{'epoch': 50.0, 'loss_rec': 0.57021, 'loss_kl': 0.44023, 'loss_sparse': 0.00132, 'loss': 3.55553, 'loss_ma': 2.85385, 'lossG': 0.91577, 'negative_adj': 73567, 'AUPR': 0.05872097063836629, 'AUPRR': 2.4413688398738955, 'EP': 509, 'EPR': 4.971120649767585}\n",
      "{'epoch': 60.0, 'loss_rec': 0.55253, 'loss_kl': 0.44136, 'loss_sparse': 0.00127, 'loss': 3.53406, 'loss_ma': 2.85407, 'lossG': 0.90174, 'negative_adj': 69082, 'AUPR': 0.059611530890145564, 'AUPRR': 2.478394557008476, 'EP': 513, 'EPR': 5.010186430905247}\n",
      "{'epoch': 70.0, 'loss_rec': 0.54758, 'loss_kl': 0.44103, 'loss_sparse': 0.00125, 'loss': 3.52718, 'loss_ma': 2.85478, 'lossG': 0.89335, 'negative_adj': 75861, 'AUPR': 0.060201794947018925, 'AUPRR': 2.5029352323427263, 'EP': 518, 'EPR': 5.059018657327325}\n",
      "{'epoch': 80.0, 'loss_rec': 0.53623, 'loss_kl': 0.45051, 'loss_sparse': 0.00123, 'loss': 3.52076, 'loss_ma': 2.86129, 'lossG': 0.893, 'negative_adj': 72717, 'AUPR': 0.060324159738835655, 'AUPRR': 2.5080226412631066, 'EP': 515, 'EPR': 5.0297193214740785}\n",
      "{'epoch': 90.0, 'loss_rec': 0.52647, 'loss_kl': 0.45583, 'loss_sparse': 0.00122, 'loss': 3.51511, 'loss_ma': 2.86665, 'lossG': 0.88378, 'negative_adj': 75089, 'AUPR': 0.06054370504541436, 'AUPRR': 2.517150403706318, 'EP': 518, 'EPR': 5.059018657327325}\n",
      "{'epoch': 100.0, 'loss_rec': 0.51869, 'loss_kl': 0.46915, 'loss_sparse': 0.00121, 'loss': 3.51613, 'loss_ma': 2.8762, 'lossG': 0.88941, 'negative_adj': 73390, 'AUPR': 0.0606410463444844, 'AUPRR': 2.521197441958564, 'EP': 520, 'EPR': 5.078551547896157}\n",
      "{'epoch': 110.0, 'loss_rec': 0.52143, 'loss_kl': 0.47568, 'loss_sparse': 0.00121, 'loss': 3.52372, 'loss_ma': 2.88178, 'lossG': 0.89735, 'negative_adj': 75343, 'AUPR': 0.06076905131588007, 'AUPRR': 2.526519345617802, 'EP': 516, 'EPR': 5.039485766758494}\n"
     ]
    }
   ],
   "source": [
    "logger = LightLogger()\n",
    "vae, adjs, result_rec = runIntroGRN(\n",
    "        data.X, DEFAULT_GRNVAE_CONFIGS, ground_truth=ground_truth, logger=logger)"
   ]
  },
  {
   "cell_type": "markdown",
   "id": "f875fc9a-65cd-4400-aada-d91c89b6c9ee",
   "metadata": {},
   "source": [
    "The learned adjacency matrix could be obtained by the `get_adj()` method. For BEELINE benchmarks, you can get the performance metrics of this run using the `get_metrics` function. "
   ]
  },
  {
   "cell_type": "code",
   "execution_count": 5,
   "id": "6c7f550c",
   "metadata": {},
   "outputs": [
    {
     "data": {
      "text/plain": [
       "{'AUPR': 0.06113034351341905,\n",
       " 'AUPRR': 2.541540342436695,\n",
       " 'EP': 517,\n",
       " 'EPR': 5.0492522120429095}"
      ]
     },
     "execution_count": 5,
     "metadata": {},
     "output_type": "execute_result"
    }
   ],
   "source": [
    "A = vae.get_adj()\n",
    "get_metrics(A, ground_truth)"
   ]
  },
  {
   "cell_type": "code",
   "execution_count": null,
   "id": "4afda00c",
   "metadata": {},
   "outputs": [],
   "source": []
  }
 ],
 "metadata": {
  "kernelspec": {
   "display_name": "Python 3 (ipykernel)",
   "language": "python",
   "name": "python3"
  },
  "language_info": {
   "codemirror_mode": {
    "name": "ipython",
    "version": 3
   },
   "file_extension": ".py",
   "mimetype": "text/x-python",
   "name": "python",
   "nbconvert_exporter": "python",
   "pygments_lexer": "ipython3",
   "version": "3.8.0"
  }
 },
 "nbformat": 4,
 "nbformat_minor": 5
}
